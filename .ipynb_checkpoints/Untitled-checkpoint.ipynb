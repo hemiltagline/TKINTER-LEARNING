{
 "cells": [
  {
   "cell_type": "code",
   "execution_count": 1,
   "id": "15e2135b-2d3f-4cad-ac80-e5fcb112bcb0",
   "metadata": {
    "tags": []
   },
   "outputs": [],
   "source": [
    "# Python program demonstrating\n",
    "# Multiple selection in Listbox widget\n",
    "\n",
    "\n",
    "from tkinter import *\n",
    "\n",
    "window = Tk()\n",
    "window.geometry('100x150')\n",
    "\n",
    "# Choosing selectmode as multiple\n",
    "# for selecting multiple options\n",
    "list = Listbox(window, selectmode = \"multiple\")\n",
    "\n",
    "# Widget expands horizontally and\n",
    "# vertically by assigning both to\n",
    "# fill option\n",
    "list.pack(expand = YES, fill = \"both\")\n",
    "\n",
    "# Taking a list 'x' with the items\n",
    "# as languages\n",
    "x = [\"C\", \"C++\", \"Java\", \"Python\", \"R\",\n",
    "\t\"Go\", \"Ruby\", \"JavaScript\", \"Swift\"]\n",
    "\n",
    "for each_item in range(len(x)):\n",
    "\t     \n",
    "\tlist.insert(END, x[each_item])\n",
    "\t\n",
    "\t# coloring alternative lines of listbox\n",
    "\tlist.itemconfig(each_item,\n",
    "\t\t\tbg = \"yellow\" if each_item % 2 == 0 else \"cyan\")\n",
    "\t\n",
    "window.mainloop()\n"
   ]
  },
  {
   "cell_type": "code",
   "execution_count": null,
   "id": "f48323b7-703e-42cb-94ff-30d9c6b6db05",
   "metadata": {},
   "outputs": [],
   "source": []
  }
 ],
 "metadata": {
  "kernelspec": {
   "display_name": "Python 3 (ipykernel)",
   "language": "python",
   "name": "python3"
  },
  "language_info": {
   "codemirror_mode": {
    "name": "ipython",
    "version": 3
   },
   "file_extension": ".py",
   "mimetype": "text/x-python",
   "name": "python",
   "nbconvert_exporter": "python",
   "pygments_lexer": "ipython3",
   "version": "3.9.16"
  }
 },
 "nbformat": 4,
 "nbformat_minor": 5
}
